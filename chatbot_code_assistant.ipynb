{
 "cells": [
  {
   "cell_type": "markdown",
   "metadata": {},
   "source": [
    "### Install the required libraries"
   ]
  },
  {
   "cell_type": "code",
   "execution_count": 2,
   "metadata": {},
   "outputs": [
    {
     "name": "stdout",
     "output_type": "stream",
     "text": [
      "Note: you may need to restart the kernel to use updated packages.\n",
      "Requirement already satisfied: python-dotenv in ./.venv/lib/python3.13/site-packages (1.0.1)\n",
      "Note: you may need to restart the kernel to use updated packages.\n"
     ]
    }
   ],
   "source": [
    "%pip install -U -q google-generativeai\n",
    "%pip install python-dotenv"
   ]
  },
  {
   "cell_type": "markdown",
   "metadata": {},
   "source": [
    "### Import the necessary libraries"
   ]
  },
  {
   "cell_type": "code",
   "execution_count": 38,
   "metadata": {},
   "outputs": [],
   "source": [
    "import google.generativeai as genai\n",
    "import os\n",
    "from dotenv import load_dotenv\n",
    "from IPython.display import display\n",
    "from IPython.display import Markdown\n",
    "import textwrap\n",
    "import time"
   ]
  },
  {
   "cell_type": "markdown",
   "metadata": {},
   "source": [
    "### Setup the API Key"
   ]
  },
  {
   "cell_type": "code",
   "execution_count": 4,
   "metadata": {},
   "outputs": [],
   "source": [
    "load_dotenv\n",
    "api_key = os.environ.get('GOOGLE_API_KEY')\n",
    "genai.configure(api_key=api_key)"
   ]
  },
  {
   "cell_type": "markdown",
   "metadata": {},
   "source": [
    "### Converts a string to Markdown"
   ]
  },
  {
   "cell_type": "code",
   "execution_count": 8,
   "metadata": {},
   "outputs": [],
   "source": [
    "def to_markdown(text):\n",
    "    text = text.replace('•', '  *')\n",
    "    return Markdown(textwrap.indent(text, '> ', predicate=lambda _: True))"
   ]
  },
  {
   "cell_type": "markdown",
   "metadata": {},
   "source": [
    "### Define the system instructions"
   ]
  },
  {
   "cell_type": "code",
   "execution_count": 15,
   "metadata": {},
   "outputs": [
    {
     "data": {
      "text/markdown": [
       "> \n",
       "> You are an expert Python developer and AI assistant.  You specialize in helping users create, understand, \n",
       "> and improve Python code.  You are knowledgeable in various aspects of Python development, including:\n",
       "> \n",
       "> *   **Code Generation:** You can write Python code to solve specific problems or implement desired functionalities. \n",
       ">     You adhere to Pythonic style (PEP 8) and strive to produce clean, efficient, well-documented, and testable code. \n",
       ">     You consider appropriate design patterns when generating code.\n",
       "> \n",
       "> *   **Code Explanation:** You can clearly and concisely explain existing Python code, \n",
       ">     breaking down complex logic into understandable parts. You provide insights into the code's purpose,\n",
       ">     functionality, potential issues, and how it relates to design patterns or SOLID principles (if applicable).\n",
       "> \n",
       "> *   **Best Practices:** You are well-versed in Python best practices, including coding style (PEP 8),\n",
       ">     code organization, error handling, testing, and performance optimization. \n",
       ">     You advise users on how to write more maintainable, robust, and efficient Python code.\n",
       "> \n",
       "> *   **Software Architecture:** You can help users design the architecture of Python applications,\n",
       ">     offering guidance on choosing appropriate design patterns (e.g., Factory, Singleton, Observer, Strategy),\n",
       ">     modules, and frameworks. You are familiar with SOLID principles (Single Responsibility, Open/Closed, \n",
       ">     Liskov Substitution, Interface Segregation, Dependency Inversion) and can explain how they apply to Python code.\n",
       ">     You discuss trade-offs and help users make informed decisions.\n",
       "> \n",
       "> *   **Debugging:** You can assist users in identifying and fixing bugs in their Python code. \n",
       ">     You suggest debugging strategies, help users interpret error messages, and encourage the use of unit tests.\n",
       "> \n",
       "> *   **General Python Knowledge:** You possess a broad understanding of the Python language, its standard library,\n",
       ">     and popular third-party libraries. You answer questions about Python syntax, semantics, and usage.\n",
       "> \n",
       "> When providing code, always adhere to PEP 8 style guidelines. Use meaningful variable names \n",
       "> and add comprehensive docstrings to explain complex logic, function signatures, and class purposes.\n",
       "> If you are unsure about a user's intent, ask clarifying questions before providing a response. \n",
       "> Be patient and supportive, and strive to help users improve their Python skills.  \n",
       "> When discussing architecture or design, explain how SOLID principles or specific design patterns can be applied \n",
       "> to solve the problem at hand.  If a user's code violates best practices or SOLID principles, \n",
       "> gently point out the issues and suggest improvements.\n"
      ],
      "text/plain": [
       "<IPython.core.display.Markdown object>"
      ]
     },
     "metadata": {},
     "output_type": "display_data"
    }
   ],
   "source": [
    "SYSTEM_INSTRUCTIONS = \"\"\"\n",
    "You are an expert Python developer and AI assistant.  You specialize in helping users create, understand, \n",
    "and improve Python code.  You are knowledgeable in various aspects of Python development, including:\n",
    "\n",
    "*   **Code Generation:** You can write Python code to solve specific problems or implement desired functionalities. \n",
    "    You adhere to Pythonic style (PEP 8) and strive to produce clean, efficient, well-documented, and testable code. \n",
    "    You consider appropriate design patterns when generating code.\n",
    "\n",
    "*   **Code Explanation:** You can clearly and concisely explain existing Python code, \n",
    "    breaking down complex logic into understandable parts. You provide insights into the code's purpose,\n",
    "    functionality, potential issues, and how it relates to design patterns or SOLID principles (if applicable).\n",
    "\n",
    "*   **Best Practices:** You are well-versed in Python best practices, including coding style (PEP 8),\n",
    "    code organization, error handling, testing, and performance optimization. \n",
    "    You advise users on how to write more maintainable, robust, and efficient Python code.\n",
    "\n",
    "*   **Software Architecture:** You can help users design the architecture of Python applications,\n",
    "    offering guidance on choosing appropriate design patterns (e.g., Factory, Singleton, Observer, Strategy),\n",
    "    modules, and frameworks. You are familiar with SOLID principles (Single Responsibility, Open/Closed, \n",
    "    Liskov Substitution, Interface Segregation, Dependency Inversion) and can explain how they apply to Python code.\n",
    "    You discuss trade-offs and help users make informed decisions.\n",
    "\n",
    "*   **Debugging:** You can assist users in identifying and fixing bugs in their Python code. \n",
    "    You suggest debugging strategies, help users interpret error messages, and encourage the use of unit tests.\n",
    "\n",
    "*   **General Python Knowledge:** You possess a broad understanding of the Python language, its standard library,\n",
    "    and popular third-party libraries. You answer questions about Python syntax, semantics, and usage.\n",
    "\n",
    "When providing code, always adhere to PEP 8 style guidelines. Use meaningful variable names \n",
    "and add comprehensive docstrings to explain complex logic, function signatures, and class purposes.\n",
    "If you are unsure about a user's intent, ask clarifying questions before providing a response. \n",
    "Be patient and supportive, and strive to help users improve their Python skills.  \n",
    "When discussing architecture or design, explain how SOLID principles or specific design patterns can be applied \n",
    "to solve the problem at hand.  If a user's code violates best practices or SOLID principles, \n",
    "gently point out the issues and suggest improvements.\n",
    "\"\"\"\n",
    "\n",
    "display(to_markdown(SYSTEM_INSTRUCTIONS)) "
   ]
  },
  {
   "cell_type": "markdown",
   "metadata": {},
   "source": [
    "### Define the generation config"
   ]
  },
  {
   "cell_type": "code",
   "execution_count": 13,
   "metadata": {},
   "outputs": [],
   "source": [
    "GENERATION_CONFIG = genai.types.GenerationConfig(\n",
    "    temperature = 0.7,  \n",
    "    top_p = 0.95,  \n",
    "    top_k = 40,  \n",
    ")"
   ]
  },
  {
   "cell_type": "markdown",
   "metadata": {},
   "source": [
    "### Select the model, pass the system instructions and the generation config"
   ]
  },
  {
   "cell_type": "code",
   "execution_count": 16,
   "metadata": {},
   "outputs": [],
   "source": [
    "model = genai.GenerativeModel(\n",
    "    model_name = 'gemini-1.5-pro',\n",
    "    system_instruction = SYSTEM_INSTRUCTIONS,\n",
    "    generation_config = GENERATION_CONFIG\n",
    ")"
   ]
  },
  {
   "cell_type": "markdown",
   "metadata": {},
   "source": [
    "### Welcome text"
   ]
  },
  {
   "cell_type": "code",
   "execution_count": 59,
   "metadata": {},
   "outputs": [],
   "source": [
    "def welcome_text():\n",
    "    text = \"\"\"\n",
    "### Welcome to the Python Chatbot! 🚀  \n",
    "Feel free to ask anything about Python, from basic concepts to best practices.  \n",
    "I'm here to help! 😊  \n",
    "\n",
    "To quit the chat, enter **quit** ❌  \n",
    "\"\"\"\n",
    "    return display(to_markdown(text))"
   ]
  },
  {
   "cell_type": "markdown",
   "metadata": {},
   "source": [
    "### Ending conversation text"
   ]
  },
  {
   "cell_type": "code",
   "execution_count": 53,
   "metadata": {},
   "outputs": [],
   "source": [
    "def ending_conversation_text():\n",
    "    display(to_markdown('### Ending Conversation ... 🚫'))\n",
    "    time.sleep(2)\n",
    "    display(to_markdown('### Talk to you next time! 👋'))"
   ]
  },
  {
   "cell_type": "markdown",
   "metadata": {},
   "source": [
    "### Display response"
   ]
  },
  {
   "cell_type": "code",
   "execution_count": 62,
   "metadata": {},
   "outputs": [],
   "source": [
    "def response_text(chat_session):\n",
    "    text = f\"```python\\n{chat_session.history[-1].role.capitalize()}: {chat_session.history[-1].parts[0].text}\\n```\"\n",
    "    display(to_markdown(text))"
   ]
  },
  {
   "cell_type": "markdown",
   "metadata": {},
   "source": [
    "### Chatbot logic"
   ]
  },
  {
   "cell_type": "code",
   "execution_count": 63,
   "metadata": {},
   "outputs": [
    {
     "data": {
      "text/markdown": [
       "> \n",
       "> ### Welcome to the Python Chatbot! 🚀  \n",
       "> Feel free to ask anything about Python, from basic concepts to best practices.  \n",
       "> I'm here to help! 😊  \n",
       "> \n",
       "> To quit the chat, enter **quit** ❌  \n"
      ],
      "text/plain": [
       "<IPython.core.display.Markdown object>"
      ]
     },
     "metadata": {},
     "output_type": "display_data"
    },
    {
     "data": {
      "text/markdown": [
       "> ```python\n",
       "> Model: Python is a high-level, general-purpose programming language known for its clear syntax and readability.  It's dynamically typed, meaning you don't need to declare variable types explicitly, and it supports multiple programming paradigms, including procedural, object-oriented, and functional programming.\n",
       "> \n",
       "> Here's a breakdown of some key features and aspects of Python:\n",
       "> \n",
       "> * **Interpreted Language:** Python code is executed line by line by an interpreter, making it easier to debug and test.  This contrasts with compiled languages, where the entire code is converted to machine code before execution.\n",
       "> \n",
       "> * **Dynamically Typed:**  You don't need to specify the type of a variable when you declare it.  Python infers the type based on the value assigned. This simplifies the code but requires careful attention to potential type-related errors.\n",
       "> \n",
       "> * **Readability:** Python emphasizes code readability with its clean syntax and use of indentation to define code blocks.  This makes it easier to learn, understand, and maintain Python code compared to languages with more complex syntax.\n",
       "> \n",
       "> * **Large Standard Library:** Python comes with a comprehensive standard library that provides modules and packages for a wide range of tasks, from web development and data science to system administration and GUI programming.  This reduces the need to rely on external libraries for many common operations.\n",
       "> \n",
       "> * **Extensive Third-Party Libraries:** Python has a vast ecosystem of third-party libraries and frameworks, covering almost any domain you can imagine.  Popular examples include NumPy for numerical computing, Pandas for data analysis, Django and Flask for web development, TensorFlow and PyTorch for machine learning, and many more.\n",
       "> \n",
       "> * **Cross-Platform Compatibility:** Python code can run on various operating systems, including Windows, macOS, Linux, and other Unix-like systems, making it highly portable.\n",
       "> \n",
       "> * **Community Support:** Python has a large and active community of developers, which means you can find ample resources, tutorials, documentation, and support online.\n",
       "> \n",
       "> **Who uses Python?**\n",
       "> \n",
       "> Python is used in a wide variety of fields, including:\n",
       "> \n",
       "> * **Web Development:** Building web applications using frameworks like Django and Flask.\n",
       "> * **Data Science and Machine Learning:** Analyzing data, building machine learning models, and creating data visualizations.\n",
       "> * **Scripting and Automation:** Automating tasks, writing scripts for system administration, and creating small utilities.\n",
       "> * **DevOps:** Managing infrastructure, automating deployments, and monitoring systems.\n",
       "> * **Scientific Computing:** Performing complex calculations, simulations, and data analysis.\n",
       "> * **Education:** Teaching programming concepts and introducing students to computer science.\n",
       "> \n",
       "> \n",
       "> If you have any specific questions about Python or want to know how it can be used for a particular task, feel free to ask!\n",
       "> \n",
       "> ```"
      ],
      "text/plain": [
       "<IPython.core.display.Markdown object>"
      ]
     },
     "metadata": {},
     "output_type": "display_data"
    },
    {
     "data": {
      "text/markdown": [
       "> ```python\n",
       "> Model: ```python\n",
       "> \"\"\"\n",
       "> A simple command-line application to manage a to-do list.\n",
       "> \"\"\"\n",
       "> \n",
       "> import json\n",
       "> \n",
       "> def load_todos(filepath=\"todos.json\"):\n",
       ">     \"\"\"Loads to-dos from a JSON file.\n",
       "> \n",
       ">     Args:\n",
       ">         filepath: The path to the JSON file.\n",
       "> \n",
       ">     Returns:\n",
       ">         A list of to-do dictionaries, or an empty list if the file doesn't exist.\n",
       ">     \"\"\"\n",
       ">     try:\n",
       ">         with open(filepath, \"r\") as f:\n",
       ">             return json.load(f)\n",
       ">     except FileNotFoundError:\n",
       ">         return []\n",
       "> \n",
       "> def save_todos(todos, filepath=\"todos.json\"):\n",
       ">     \"\"\"Saves to-dos to a JSON file.\n",
       "> \n",
       ">     Args:\n",
       ">         todos: The list of to-do dictionaries.\n",
       ">         filepath: The path to the JSON file.\n",
       ">     \"\"\"\n",
       ">     with open(filepath, \"w\") as f:\n",
       ">         json.dump(todos, f, indent=4)\n",
       "> \n",
       "> def add_todo(todos):\n",
       ">     \"\"\"Adds a new to-do to the list.\"\"\"\n",
       ">     task = input(\"Enter the to-do task: \")\n",
       ">     todos.append({\"task\": task, \"completed\": False})\n",
       ">     print(\"To-do added!\")\n",
       "> \n",
       "> def list_todos(todos):\n",
       ">     \"\"\"Lists all to-dos.\"\"\"\n",
       ">     if not todos:\n",
       ">         print(\"No to-dos yet!\")\n",
       ">         return\n",
       "> \n",
       ">     for i, todo in enumerate(todos):\n",
       ">         status = \"[x]\" if todo[\"completed\"] else \"[ ]\"\n",
       ">         print(f\"{i+1}. {status} {todo['task']}\")\n",
       "> \n",
       "> def mark_complete(todos):\n",
       ">     \"\"\"Marks a to-do as complete.\"\"\"\n",
       ">     try:\n",
       ">         index = int(input(\"Enter the number of the to-do to mark complete: \")) - 1\n",
       ">         if 0 <= index < len(todos):\n",
       ">             todos[index][\"completed\"] = True\n",
       ">             print(\"To-do marked complete!\")\n",
       ">         else:\n",
       ">             print(\"Invalid to-do number.\")\n",
       ">     except ValueError:\n",
       ">         print(\"Invalid input. Please enter a number.\")\n",
       "> \n",
       "> \n",
       "> def main():\n",
       ">     \"\"\"Main function to run the to-do app.\"\"\"\n",
       ">     todos = load_todos()\n",
       "> \n",
       ">     while True:\n",
       ">         print(\"\\nChoose an action:\")\n",
       ">         print(\"1. Add to-do\")\n",
       ">         print(\"2. List to-dos\")\n",
       ">         print(\"3. Mark complete\")\n",
       ">         print(\"4. Exit\")\n",
       "> \n",
       ">         choice = input(\"> \")\n",
       "> \n",
       ">         if choice == \"1\":\n",
       ">             add_todo(todos)\n",
       ">         elif choice == \"2\":\n",
       ">             list_todos(todos)\n",
       ">         elif choice == \"3\":\n",
       ">             mark_complete(todos)\n",
       ">         elif choice == \"4\":\n",
       ">             break\n",
       ">         else:\n",
       ">             print(\"Invalid choice.\")\n",
       "> \n",
       ">     save_todos(todos)\n",
       "> \n",
       "> \n",
       "> if __name__ == \"__main__\":\n",
       ">     main()\n",
       "> ```\n",
       "> \n",
       "> **Explanation and Key Improvements:**\n",
       "> \n",
       "> * **Functionality:** This script allows users to add tasks, list them (marking completed ones), and save/load the list to a JSON file.\n",
       "> * **Clearer Function Definitions:** Each action (add, list, mark complete, save, load) is separated into its own function, improving code organization and readability.\n",
       "> * **Error Handling:** Includes `try-except` blocks to handle potential errors like `FileNotFoundError` and `ValueError` for more robust execution.\n",
       "> * **Input Validation:** Added basic input validation when marking a to-do as complete to prevent index errors.\n",
       "> * **Docstrings:**  Comprehensive docstrings explain the purpose of each function and their parameters/return values, adhering to best practices.\n",
       "> * **File Handling:** Uses `with open(...)` to ensure files are properly closed even if errors occur.\n",
       "> * **JSON Persistence:**  Uses JSON to save and load the to-do list, providing a simple way to store data between sessions.\n",
       "> * **User-Friendly Interface:** The command-line interface is more user-friendly with clear prompts and instructions.\n",
       "> \n",
       "> \n",
       "> \n",
       "> This revised example demonstrates a more organized, robust, and user-friendly Python application, following best practices.  It also incorporates more advanced concepts like file I/O and JSON handling.\n",
       "> ```"
      ],
      "text/plain": [
       "<IPython.core.display.Markdown object>"
      ]
     },
     "metadata": {},
     "output_type": "display_data"
    },
    {
     "data": {
      "text/markdown": [
       "> ```python\n",
       "> Model: I apologize for the confusion.  I believe you're asking why the `list_todos` function is included in the to-do list application.\n",
       "> \n",
       "> The `list_todos` function serves the crucial purpose of displaying the current state of the to-do list to the user.  Without it, the user would have no way of seeing the tasks they've added, checking which tasks are completed, or knowing which task to mark as complete.\n",
       "> \n",
       "> Here's a breakdown of its importance:\n",
       "> \n",
       "> 1. **Visibility:**  It provides a way for the user to see all their to-do items.  This is essential for any to-do list application.\n",
       "> \n",
       "> 2. **Status Tracking:**  The function displays the completion status of each task (using `[x]` for completed and `[ ]` for incomplete), allowing the user to easily track their progress.\n",
       "> \n",
       "> 3. **Context for Completion:**  When the user wants to mark a task as complete, they need to know the index or number associated with that task. `list_todos` displays the tasks with their corresponding numbers, providing the necessary context for the `mark_complete` function.\n",
       "> \n",
       "> 4. **Feedback:** After adding a to-do item, the user can immediately see it in the list, confirming that the addition was successful.  This provides valuable feedback to the user.\n",
       "> \n",
       "> \n",
       "> In short, the `list_todos` function is fundamental to the usability and functionality of the to-do list application.  It bridges the gap between the internal data (the `todos` list) and the user's understanding of their tasks.\n",
       "> \n",
       "> ```"
      ],
      "text/plain": [
       "<IPython.core.display.Markdown object>"
      ]
     },
     "metadata": {},
     "output_type": "display_data"
    },
    {
     "data": {
      "text/markdown": [
       "> ### Ending Conversation ... 🚫"
      ],
      "text/plain": [
       "<IPython.core.display.Markdown object>"
      ]
     },
     "metadata": {},
     "output_type": "display_data"
    },
    {
     "data": {
      "text/markdown": [
       "> ### Talk to you next time! 👋"
      ],
      "text/plain": [
       "<IPython.core.display.Markdown object>"
      ]
     },
     "metadata": {},
     "output_type": "display_data"
    }
   ],
   "source": [
    "chat_session = model.start_chat(history=[])\n",
    "welcome_text()\n",
    "prompt = input(\"User:\").strip() \n",
    "\n",
    "while prompt != \"quit\":\n",
    "    if prompt.lower() == \"quit\" or prompt == \"\":  # Exit on \"quit\" or empty input (Enter key)\n",
    "        break\n",
    "    chat_session.send_message(prompt)\n",
    "    response_text(chat_session)\n",
    "    prompt = input('User:').strip()\n",
    "ending_conversation_text()    "
   ]
  }
 ],
 "metadata": {
  "kernelspec": {
   "display_name": ".venv",
   "language": "python",
   "name": "python3"
  },
  "language_info": {
   "codemirror_mode": {
    "name": "ipython",
    "version": 3
   },
   "file_extension": ".py",
   "mimetype": "text/x-python",
   "name": "python",
   "nbconvert_exporter": "python",
   "pygments_lexer": "ipython3",
   "version": "3.13.1"
  }
 },
 "nbformat": 4,
 "nbformat_minor": 2
}
