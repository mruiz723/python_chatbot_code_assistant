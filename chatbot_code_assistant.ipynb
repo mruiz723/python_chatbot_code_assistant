{
 "cells": [
  {
   "cell_type": "markdown",
   "metadata": {},
   "source": [
    "### Install the required libraries"
   ]
  },
  {
   "cell_type": "code",
   "execution_count": 2,
   "metadata": {},
   "outputs": [
    {
     "name": "stdout",
     "output_type": "stream",
     "text": [
      "Note: you may need to restart the kernel to use updated packages.\n",
      "Requirement already satisfied: python-dotenv in ./.venv/lib/python3.13/site-packages (1.0.1)\n",
      "Note: you may need to restart the kernel to use updated packages.\n"
     ]
    }
   ],
   "source": [
    "%pip install -U -q google-generativeai\n",
    "%pip install python-dotenv"
   ]
  },
  {
   "cell_type": "markdown",
   "metadata": {},
   "source": [
    "### Import the necessary libraries"
   ]
  },
  {
   "cell_type": "code",
   "execution_count": 120,
   "metadata": {},
   "outputs": [],
   "source": [
    "import google.generativeai as genai\n",
    "import os\n",
    "from dotenv import load_dotenv\n",
    "from IPython.display import display\n",
    "from IPython.display import Markdown\n",
    "import textwrap\n",
    "import time\n",
    "import re"
   ]
  },
  {
   "cell_type": "markdown",
   "metadata": {},
   "source": [
    "### Setup the API Key"
   ]
  },
  {
   "cell_type": "code",
   "execution_count": 4,
   "metadata": {},
   "outputs": [],
   "source": [
    "load_dotenv\n",
    "api_key = os.environ.get('GOOGLE_API_KEY')\n",
    "genai.configure(api_key=api_key)"
   ]
  },
  {
   "cell_type": "markdown",
   "metadata": {},
   "source": [
    "### Converts a string to Markdown"
   ]
  },
  {
   "cell_type": "code",
   "execution_count": 122,
   "metadata": {},
   "outputs": [],
   "source": [
    "def to_markdown(text):\n",
    "    # Replace bullet points (•) with Markdown-compatible lists (* item)\n",
    "    text = text.replace('•', '  * ')\n",
    "\n",
    "    # Function to preserve code blocks\n",
    "    def preserve_code(match):\n",
    "        return f\"\\n```python\\n{match.group(1)}\\n```\\n\"  # Ensures correct markdown\n",
    "\n",
    "    # Extract and preserve Python code blocks\n",
    "    text = re.sub(r\"```python\\n(.*?)\\n```\", preserve_code, text, flags=re.DOTALL)\n",
    "\n",
    "    # Split text into lines for better processing\n",
    "    lines = text.split(\"\\n\")\n",
    "    formatted_lines = []\n",
    "    inside_code_block = False\n",
    "\n",
    "    for line in lines:\n",
    "        # Detect start and end of a code block\n",
    "        if line.startswith(\"```\"):\n",
    "            inside_code_block = not inside_code_block\n",
    "            formatted_lines.append(line)\n",
    "            continue\n",
    "\n",
    "        # Apply blockquote formatting **only** to non-code lines\n",
    "        if not inside_code_block:\n",
    "            line = line.strip()  # Remove leading/trailing whitespace from each line\n",
    "            if line:  # Only add non-empty lines\n",
    "                formatted_lines.append(f\"> {line}\")\n",
    "        else:\n",
    "            formatted_lines.append(line)\n",
    "\n",
    "    # Join lines back into a full formatted text\n",
    "    formatted_text = \"\\n\".join(formatted_lines)\n",
    "    \n",
    "    return Markdown(formatted_text)"
   ]
  },
  {
   "cell_type": "markdown",
   "metadata": {},
   "source": [
    "### Define the system instructions"
   ]
  },
  {
   "cell_type": "code",
   "execution_count": 123,
   "metadata": {},
   "outputs": [
    {
     "data": {
      "text/markdown": [
       "> You are an expert Python developer and AI assistant.  You specialize in helping users create, understand,\n",
       "> and improve Python code.  You are knowledgeable in various aspects of Python development, including:\n",
       "> *   **Code Generation:** You can write Python code to solve specific problems or implement desired functionalities.\n",
       "> You adhere to Pythonic style (PEP 8) and strive to produce clean, efficient, well-documented, and testable code.\n",
       "> You consider appropriate design patterns when generating code.\n",
       "> *   **Code Explanation:** You can clearly and concisely explain existing Python code,\n",
       "> breaking down complex logic into understandable parts. You provide insights into the code's purpose,\n",
       "> functionality, potential issues, and how it relates to design patterns or SOLID principles (if applicable).\n",
       "> *   **Best Practices:** You are well-versed in Python best practices, including coding style (PEP 8),\n",
       "> code organization, error handling, testing, and performance optimization.\n",
       "> You advise users on how to write more maintainable, robust, and efficient Python code.\n",
       "> *   **Software Architecture:** You can help users design the architecture of Python applications,\n",
       "> offering guidance on choosing appropriate design patterns (e.g., Factory, Singleton, Observer, Strategy),\n",
       "> modules, and frameworks. You are familiar with SOLID principles (Single Responsibility, Open/Closed,\n",
       "> Liskov Substitution, Interface Segregation, Dependency Inversion) and can explain how they apply to Python code.\n",
       "> You discuss trade-offs and help users make informed decisions.\n",
       "> *   **Debugging:** You can assist users in identifying and fixing bugs in their Python code.\n",
       "> You suggest debugging strategies, help users interpret error messages, and encourage the use of unit tests.\n",
       "> *   **General Python Knowledge:** You possess a broad understanding of the Python language, its standard library,\n",
       "> and popular third-party libraries. You answer questions about Python syntax, semantics, and usage.\n",
       "> When providing code, always adhere to PEP 8 style guidelines. Use meaningful variable names\n",
       "> and add comprehensive docstrings to explain complex logic, function signatures, and class purposes.\n",
       "> If you are unsure about a user's intent, ask clarifying questions before providing a response.\n",
       "> Be patient and supportive, and strive to help users improve their Python skills.\n",
       "> When discussing architecture or design, explain how SOLID principles or specific design patterns can be applied\n",
       "> to solve the problem at hand.  If a user's code violates best practices or SOLID principles,\n",
       "> gently point out the issues and suggest improvements."
      ],
      "text/plain": [
       "<IPython.core.display.Markdown object>"
      ]
     },
     "metadata": {},
     "output_type": "display_data"
    }
   ],
   "source": [
    "SYSTEM_INSTRUCTIONS = \"\"\"\n",
    "You are an expert Python developer and AI assistant.  You specialize in helping users create, understand, \n",
    "and improve Python code.  You are knowledgeable in various aspects of Python development, including:\n",
    "\n",
    "*   **Code Generation:** You can write Python code to solve specific problems or implement desired functionalities. \n",
    "    You adhere to Pythonic style (PEP 8) and strive to produce clean, efficient, well-documented, and testable code. \n",
    "    You consider appropriate design patterns when generating code.\n",
    "\n",
    "*   **Code Explanation:** You can clearly and concisely explain existing Python code, \n",
    "    breaking down complex logic into understandable parts. You provide insights into the code's purpose,\n",
    "    functionality, potential issues, and how it relates to design patterns or SOLID principles (if applicable).\n",
    "\n",
    "*   **Best Practices:** You are well-versed in Python best practices, including coding style (PEP 8),\n",
    "    code organization, error handling, testing, and performance optimization. \n",
    "    You advise users on how to write more maintainable, robust, and efficient Python code.\n",
    "\n",
    "*   **Software Architecture:** You can help users design the architecture of Python applications,\n",
    "    offering guidance on choosing appropriate design patterns (e.g., Factory, Singleton, Observer, Strategy),\n",
    "    modules, and frameworks. You are familiar with SOLID principles (Single Responsibility, Open/Closed, \n",
    "    Liskov Substitution, Interface Segregation, Dependency Inversion) and can explain how they apply to Python code.\n",
    "    You discuss trade-offs and help users make informed decisions.\n",
    "\n",
    "*   **Debugging:** You can assist users in identifying and fixing bugs in their Python code. \n",
    "    You suggest debugging strategies, help users interpret error messages, and encourage the use of unit tests.\n",
    "\n",
    "*   **General Python Knowledge:** You possess a broad understanding of the Python language, its standard library,\n",
    "    and popular third-party libraries. You answer questions about Python syntax, semantics, and usage.\n",
    "\n",
    "When providing code, always adhere to PEP 8 style guidelines. Use meaningful variable names \n",
    "and add comprehensive docstrings to explain complex logic, function signatures, and class purposes.\n",
    "If you are unsure about a user's intent, ask clarifying questions before providing a response. \n",
    "Be patient and supportive, and strive to help users improve their Python skills.  \n",
    "When discussing architecture or design, explain how SOLID principles or specific design patterns can be applied \n",
    "to solve the problem at hand.  If a user's code violates best practices or SOLID principles, \n",
    "gently point out the issues and suggest improvements.\n",
    "\"\"\"\n",
    "\n",
    "display(to_markdown(SYSTEM_INSTRUCTIONS)) "
   ]
  },
  {
   "cell_type": "markdown",
   "metadata": {},
   "source": [
    "### Define the generation config"
   ]
  },
  {
   "cell_type": "code",
   "execution_count": 13,
   "metadata": {},
   "outputs": [],
   "source": [
    "GENERATION_CONFIG = genai.types.GenerationConfig(\n",
    "    temperature = 0.7,  \n",
    "    top_p = 0.95,  \n",
    "    top_k = 40,  \n",
    ")"
   ]
  },
  {
   "cell_type": "markdown",
   "metadata": {},
   "source": [
    "### Select the model, pass the system instructions and the generation config"
   ]
  },
  {
   "cell_type": "code",
   "execution_count": 16,
   "metadata": {},
   "outputs": [],
   "source": [
    "model = genai.GenerativeModel(\n",
    "    model_name = 'gemini-1.5-pro',\n",
    "    system_instruction = SYSTEM_INSTRUCTIONS,\n",
    "    generation_config = GENERATION_CONFIG\n",
    ")"
   ]
  },
  {
   "cell_type": "markdown",
   "metadata": {},
   "source": [
    "### Welcome text"
   ]
  },
  {
   "cell_type": "code",
   "execution_count": 124,
   "metadata": {},
   "outputs": [],
   "source": [
    "def welcome_text():\n",
    "    text = \"\"\"\n",
    "### Welcome to the Python Chatbot! 🚀  \n",
    "Feel free to ask anything about Python, from basic concepts to best practices.<br><br>  \n",
    "I'm here to help! 😊<br><br>  \n",
    "To quit the chat, enter **quit** ❌  \n",
    "\"\"\"\n",
    "    return display(to_markdown(text))"
   ]
  },
  {
   "cell_type": "markdown",
   "metadata": {},
   "source": [
    "### Ending conversation text"
   ]
  },
  {
   "cell_type": "code",
   "execution_count": 125,
   "metadata": {},
   "outputs": [],
   "source": [
    "def ending_conversation_text():\n",
    "    display(to_markdown('### Ending Conversation ... 🚫'))\n",
    "    time.sleep(2)\n",
    "    display(to_markdown('### Talk to you next time! 👋'))"
   ]
  },
  {
   "cell_type": "markdown",
   "metadata": {},
   "source": [
    "### Display response"
   ]
  },
  {
   "cell_type": "code",
   "execution_count": 128,
   "metadata": {},
   "outputs": [],
   "source": [
    "def response_text(chat_session):\n",
    "    user_text = f\"#### {chat_session.history[-2].role.capitalize()}: {chat_session.history[-2].parts[0].text}\"\n",
    "    model_text = f\"{chat_session.history[-1].role.capitalize()}: {chat_session.history[-1].parts[0].text}\"\n",
    "    display(to_markdown(user_text))\n",
    "    display(to_markdown(model_text))"
   ]
  },
  {
   "cell_type": "markdown",
   "metadata": {},
   "source": [
    "### Chatbot logic"
   ]
  },
  {
   "cell_type": "code",
   "execution_count": 131,
   "metadata": {},
   "outputs": [
    {
     "data": {
      "text/markdown": [
       "> ### Welcome to the Python Chatbot! 🚀\n",
       "> Feel free to ask anything about Python, from basic concepts to best practices.<br><br>\n",
       "> I'm here to help! 😊<br><br>\n",
       "> To quit the chat, enter **quit** ❌"
      ],
      "text/plain": [
       "<IPython.core.display.Markdown object>"
      ]
     },
     "metadata": {},
     "output_type": "display_data"
    },
    {
     "data": {
      "text/markdown": [
       "> #### User: What is python?"
      ],
      "text/plain": [
       "<IPython.core.display.Markdown object>"
      ]
     },
     "metadata": {},
     "output_type": "display_data"
    },
    {
     "data": {
      "text/markdown": [
       "> Model: Python is a high-level, general-purpose programming language known for its readability and versatility.  Here's a breakdown of its key characteristics:\n",
       "> **Key Features:**\n",
       "> * **Interpreted:**  Python code is executed line by line by an interpreter, making it easier to debug and test.  You don't need a separate compilation step like in languages like C or C++.\n",
       "> * **Dynamically Typed:**  You don't need to explicitly declare variable types.  Python infers the type at runtime. This simplifies code but requires careful testing.\n",
       "> * **Object-Oriented:** Python supports object-oriented programming (OOP) principles like encapsulation, inheritance, and polymorphism. This allows for modular, reusable code.\n",
       "> * **Large Standard Library:** Python comes with a vast collection of modules (pre-written code) for various tasks, from web development to data science.  This reduces development time.\n",
       "> * **Extensive Third-Party Libraries:**  A thriving community contributes to a huge ecosystem of libraries for specialized needs (e.g., NumPy for numerical computing, Pandas for data analysis, Django for web frameworks).\n",
       "> * **Cross-Platform:** Python code can run on various operating systems (Windows, macOS, Linux) with minimal or no modification.\n",
       "> * **Readability:** Python emphasizes clear syntax, using indentation to define code blocks.  This makes it easier to read and understand, particularly for beginners.\n",
       "> **Common Use Cases:**\n",
       "> * **Web Development:** Building web applications using frameworks like Django and Flask.\n",
       "> * **Data Science and Machine Learning:** Analyzing data, creating machine learning models, and visualizing results using libraries like NumPy, Pandas, Scikit-learn, and TensorFlow/PyTorch.\n",
       "> * **Scripting and Automation:** Automating tasks, system administration, and scripting for various applications.\n",
       "> * **Desktop Applications:** Creating GUI applications using libraries like Tkinter, PyQt, or Kivy.\n",
       "> * **Game Development:** Developing simple games using libraries like Pygame.\n",
       "> * **Embedded Systems:**  Python is increasingly used in embedded systems, particularly with microcontrollers like the Raspberry Pi.\n",
       "> **Example:**\n",
       "```python\n",
       "def greet(name):\n",
       "    \"\"\"Greets the person passed in as a parameter.\"\"\"  # Docstring explains the function\n",
       "    print(f\"Hello, {name}!\")\n",
       "\n",
       "greet(\"World\")  # Output: Hello, World!\n",
       "```\n",
       "> This simple example demonstrates Python's clear syntax and how easy it is to get started.  If you have any specific areas you'd like to explore further, just let me know!"
      ],
      "text/plain": [
       "<IPython.core.display.Markdown object>"
      ]
     },
     "metadata": {},
     "output_type": "display_data"
    },
    {
     "data": {
      "text/markdown": [
       "> #### User: How about data structure in python?"
      ],
      "text/plain": [
       "<IPython.core.display.Markdown object>"
      ]
     },
     "metadata": {},
     "output_type": "display_data"
    },
    {
     "data": {
      "text/markdown": [
       "> Model: Python offers several built-in data structures that are fundamental for organizing and manipulating data. Here's an overview of the most commonly used ones:\n",
       "> **1. Lists:**\n",
       "> * **Mutable:** Lists can be modified after creation (adding, removing, or changing elements).\n",
       "> * **Ordered:** Elements maintain their order of insertion.\n",
       "> * **Allow Duplicates:** Lists can contain multiple instances of the same value.\n",
       "> * **Versatile:** Can store elements of different data types.\n",
       "```python\n",
       "my_list = [1, 2, \"hello\", 3.14, True]\n",
       "my_list.append(5)  # Add an element to the end\n",
       "my_list[0] = 0     # Modify an element\n",
       "```\n",
       "> **2. Tuples:**\n",
       "> * **Immutable:** Once created, tuples cannot be changed.\n",
       "> * **Ordered:** Elements maintain their order.\n",
       "> * **Allow Duplicates:** Can contain multiple instances of the same value.\n",
       "```python\n",
       "my_tuple = (1, 2, \"hello\", 3.14, True)\n",
       "# my_tuple[0] = 0  # This would raise an error because tuples are immutable\n",
       "```\n",
       "> **3. Sets:**\n",
       "> * **Mutable:** Sets can be modified.\n",
       "> * **Unordered:** Elements do not have a specific order.\n",
       "> * **No Duplicates:** Sets automatically remove duplicate values.\n",
       "> * **Efficient for Membership Testing:** Checking if an element exists in a set is very fast.\n",
       "```python\n",
       "my_set = {1, 2, 3, 2, 1}  # Duplicates are removed\n",
       "print(my_set)            # Output: {1, 2, 3}\n",
       "my_set.add(4)\n",
       "my_set.remove(1)\n",
       "```\n",
       "> **4. Dictionaries:**\n",
       "> * **Mutable:** Dictionaries can be changed.\n",
       "> * **Unordered (before Python 3.7):**  In older versions, dictionaries did not maintain order.\n",
       "> * **Ordered (Python 3.7+):** From Python 3.7 onwards, dictionaries preserve insertion order.\n",
       "> * **Store Key-Value Pairs:** Each element is a pair of a unique key and its associated value.\n",
       "> * **Efficient for Lookups:** Retrieving values based on their keys is very fast.\n",
       "```python\n",
       "my_dict = {\"name\": \"Alice\", \"age\": 30, \"city\": \"New York\"}\n",
       "print(my_dict[\"name\"])  # Output: Alice\n",
       "my_dict[\"age\"] = 31     # Modify a value\n",
       "my_dict[\"country\"] = \"USA\" # Add a new key-value pair\n",
       "```\n",
       "> **Choosing the Right Data Structure:**\n",
       "> The best data structure depends on the specific needs of your program:\n",
       "> * **Lists:** When you need an ordered collection that can be modified.\n",
       "> * **Tuples:** When you need an immutable ordered collection (e.g., representing a record).\n",
       "> * **Sets:** When you need a collection of unique items and membership testing is important.\n",
       "> * **Dictionaries:** When you need to store and retrieve data based on keys.\n",
       "> Could you tell me more about what you'd like to do with data structures in Python?  Knowing your specific use case will help me provide more tailored advice. For example, are you interested in algorithms that work with these data structures, or are you building a specific application?"
      ],
      "text/plain": [
       "<IPython.core.display.Markdown object>"
      ]
     },
     "metadata": {},
     "output_type": "display_data"
    },
    {
     "data": {
      "text/markdown": [
       "> #### User: what does my_dict = {\"name\": \"Alice\", \"age\": 30, \"city\": \"New York\"}  mean?"
      ],
      "text/plain": [
       "<IPython.core.display.Markdown object>"
      ]
     },
     "metadata": {},
     "output_type": "display_data"
    },
    {
     "data": {
      "text/markdown": [
       "> Model: That line of code creates a Python dictionary and assigns it to the variable `my_dict`. Let's break it down:\n",
       "> * **`my_dict`:** This is the variable name. You can choose any valid variable name.  It now refers to the dictionary you're creating.\n",
       "> * **`=`:** The assignment operator. It assigns the value on the right-hand side to the variable on the left-hand side.\n",
       "> * **`{...}`:** Curly braces define a dictionary literal.  Dictionaries store data in key-value pairs.\n",
       "> * **`\"name\": \"Alice\"`:** This is a key-value pair.\n",
       "> * `\"name\"` is the key (a string).  Keys must be immutable (e.g., strings, numbers, tuples).\n",
       "> * `\"Alice\"` is the value associated with the key \"name\". Values can be of any data type.\n",
       "> * **`\"age\": 30`:** Another key-value pair. The key is the string `\"age\"`, and the value is the integer `30`.\n",
       "> * **`\"city\": \"New York\"`:**  A third key-value pair.  The key is `\"city\"`, and the value is `\"New York\"`.\n",
       "> **In essence, this dictionary represents information about a person:**\n",
       "> * Their name is Alice.\n",
       "> * Their age is 30.\n",
       "> * They live in New York City.\n",
       "> **Accessing Values:**\n",
       "> You can access the values in a dictionary using their corresponding keys:\n",
       "```python\n",
       "print(my_dict[\"name\"])  # Output: Alice\n",
       "print(my_dict[\"age\"])   # Output: 30\n",
       "print(my_dict[\"city\"])  # Output: New York\n",
       "```\n",
       "> **Modifying and Adding Entries:**\n",
       "> Dictionaries are mutable, so you can change existing values or add new key-value pairs:\n",
       "```python\n",
       "my_dict[\"age\"] = 31       # Update Alice's age\n",
       "my_dict[\"country\"] = \"USA\"  # Add a new key-value pair\n",
       "print(my_dict) # Output: {'name': 'Alice', 'age': 31, 'city': 'New York', 'country': 'USA'}\n",
       "```\n",
       "> Is there anything else about dictionaries you'd like to know?  Perhaps how to iterate through them, check if a key exists, or use dictionary comprehensions?  I'm happy to explain further."
      ],
      "text/plain": [
       "<IPython.core.display.Markdown object>"
      ]
     },
     "metadata": {},
     "output_type": "display_data"
    },
    {
     "data": {
      "text/markdown": [
       "> ### Ending Conversation ... 🚫"
      ],
      "text/plain": [
       "<IPython.core.display.Markdown object>"
      ]
     },
     "metadata": {},
     "output_type": "display_data"
    },
    {
     "data": {
      "text/markdown": [
       "> ### Talk to you next time! 👋"
      ],
      "text/plain": [
       "<IPython.core.display.Markdown object>"
      ]
     },
     "metadata": {},
     "output_type": "display_data"
    }
   ],
   "source": [
    "chat_session = model.start_chat(history=[])\n",
    "welcome_text()\n",
    "prompt = input(\"User:\").strip() \n",
    "\n",
    "while prompt != \"quit\":\n",
    "    if prompt.lower() == \"quit\" or prompt == \"\":  # Exit on \"quit\" or empty input (Enter key)\n",
    "        break\n",
    "    chat_session.send_message(prompt)\n",
    "    response_text(chat_session)\n",
    "    #response_texts(chat_session)\n",
    "    prompt = input('User:').strip()\n",
    "ending_conversation_text()    "
   ]
  }
 ],
 "metadata": {
  "kernelspec": {
   "display_name": ".venv",
   "language": "python",
   "name": "python3"
  },
  "language_info": {
   "codemirror_mode": {
    "name": "ipython",
    "version": 3
   },
   "file_extension": ".py",
   "mimetype": "text/x-python",
   "name": "python",
   "nbconvert_exporter": "python",
   "pygments_lexer": "ipython3",
   "version": "3.13.1"
  }
 },
 "nbformat": 4,
 "nbformat_minor": 2
}
